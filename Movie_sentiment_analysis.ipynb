{
  "nbformat": 4,
  "nbformat_minor": 0,
  "metadata": {
    "colab": {
      "provenance": []
    },
    "kernelspec": {
      "name": "python3",
      "display_name": "Python 3"
    },
    "language_info": {
      "name": "python"
    }
  },
  "cells": [
    {
      "cell_type": "code",
      "execution_count": null,
      "metadata": {
        "id": "C63ij5bLfT3f"
      },
      "outputs": [],
      "source": [
        "import os\n",
        "import io\n",
        "import string\n",
        "from tqdm import tqdm\n",
        "from bs4 import BeautifulSoup\n",
        "import pandas as pd\n",
        "import numpy as np\n",
        "\n",
        "import nltk\n",
        "from nltk.corpus import stopwords\n",
        "\n",
        "from sklearn.model_selection import train_test_split\n",
        "\n",
        "import tensorflow as tf\n",
        "from tensorflow import keras\n",
        "from tensorflow.keras.preprocessing.text import Tokenizer\n",
        "from tensorflow.keras.preprocessing.sequence import pad_sequences\n",
        "\n",
        "import matplotlib.pyplot as plt\n",
        "from wordcloud import WordCloud"
      ]
    },
    {
      "cell_type": "code",
      "source": [
        "data = pd.read_csv('IMDB Dataset.csv',on_bad_lines='skip',engine='python')\n",
        "\n",
        "data.shape"
      ],
      "metadata": {
        "colab": {
          "base_uri": "https://localhost:8080/"
        },
        "id": "YmwMAvhXfV7u",
        "outputId": "debe70cd-4782-40af-dfd1-6458bcdd5f81"
      },
      "execution_count": 157,
      "outputs": [
        {
          "output_type": "execute_result",
          "data": {
            "text/plain": [
              "(50000, 2)"
            ]
          },
          "metadata": {},
          "execution_count": 157
        }
      ]
    },
    {
      "cell_type": "code",
      "source": [
        "data['sentiment'] = data['sentiment'].map({'positive': 1, 'negative': 0})"
      ],
      "metadata": {
        "id": "N_heQicwfmQe"
      },
      "execution_count": 158,
      "outputs": []
    },
    {
      "cell_type": "code",
      "source": [
        "shuffled_data = data.sample(frac=1, random_state=2023)\n",
        "\n",
        "train_size = 0.8  # 80% for training, 20% for testing\n",
        "train_data, test_data = train_test_split(shuffled_data, train_size=train_size, random_state=2023)"
      ],
      "metadata": {
        "id": "PM2Y7_DgggsJ"
      },
      "execution_count": 159,
      "outputs": []
    },
    {
      "cell_type": "code",
      "source": [
        "print(f'Train shappe: {train_data.shape}')\n",
        "print(f'Test shappe: {test_data.shape}')"
      ],
      "metadata": {
        "colab": {
          "base_uri": "https://localhost:8080/"
        },
        "id": "2xZB4OFqjB2L",
        "outputId": "71ce3be7-2030-44c4-9173-81a38fff2fd4"
      },
      "execution_count": 160,
      "outputs": [
        {
          "output_type": "stream",
          "name": "stdout",
          "text": [
            "Train shappe: (40000, 2)\n",
            "Test shappe: (10000, 2)\n"
          ]
        }
      ]
    },
    {
      "cell_type": "code",
      "source": [
        "X_train = train_data['review']\n",
        "y_train = train_data['sentiment']\n",
        "\n",
        "X_test = test_data['review']\n",
        "y_test = test_data['sentiment']"
      ],
      "metadata": {
        "id": "Zlq4hWyMjE26"
      },
      "execution_count": 161,
      "outputs": []
    },
    {
      "cell_type": "markdown",
      "source": [
        "Preprocessing - Clean text"
      ],
      "metadata": {
        "id": "PnoCpIa-jMWb"
      }
    },
    {
      "cell_type": "code",
      "source": [
        "nltk.download('stopwords')\n",
        "stop_words = set(stopwords.words('english'))"
      ],
      "metadata": {
        "colab": {
          "base_uri": "https://localhost:8080/"
        },
        "id": "YxYg614BjIBi",
        "outputId": "a6f61bfa-3725-4416-e3c4-550a5701b0be"
      },
      "execution_count": 163,
      "outputs": [
        {
          "output_type": "stream",
          "name": "stderr",
          "text": [
            "[nltk_data] Downloading package stopwords to /root/nltk_data...\n",
            "[nltk_data]   Unzipping corpora/stopwords.zip.\n"
          ]
        }
      ]
    },
    {
      "cell_type": "code",
      "source": [
        "table = str.maketrans('', '', string.punctuation)"
      ],
      "metadata": {
        "id": "5IcXV16AjRQc"
      },
      "execution_count": 164,
      "outputs": []
    },
    {
      "cell_type": "code",
      "source": [
        "X_train_cleaned = []\n",
        "\n",
        "for item in tqdm(X_train):\n",
        "    sentence = str(item).lower()\n",
        "    # if we have 2 joined words\n",
        "    sentence = sentence.replace(\",\", \" , \")\n",
        "    sentence = sentence.replace(\".\", \" . \")\n",
        "    sentence = sentence.replace(\"-\", \" - \")\n",
        "    sentence = sentence.replace(\"/\", \" / \")\n",
        "    # remove <br> tag\n",
        "    soup = BeautifulSoup(sentence)\n",
        "    sentence = soup.get_text()\n",
        "    # remove stop words and punctuations\n",
        "    words = sentence.split()\n",
        "    filtered_sentence = \"\"\n",
        "    for word in words:\n",
        "        word = word.translate(table) # remove all punctuations\n",
        "        if word not in stop_words:\n",
        "            filtered_sentence += word + ' '\n",
        "\n",
        "    X_train_cleaned.append(filtered_sentence.strip())"
      ],
      "metadata": {
        "colab": {
          "base_uri": "https://localhost:8080/"
        },
        "id": "rcMtf4gxjXDI",
        "outputId": "46ee9ebf-24b4-48e4-b02f-10496ebbf257"
      },
      "execution_count": 165,
      "outputs": [
        {
          "output_type": "stream",
          "name": "stderr",
          "text": [
            "  2%|▏         | 811/40000 [00:01<00:45, 864.74it/s]<ipython-input-165-07e5d7fdea4c>:11: MarkupResemblesLocatorWarning: The input looks more like a filename than markup. You may want to open this file and pass the filehandle into Beautiful Soup.\n",
            "  soup = BeautifulSoup(sentence)\n",
            "100%|██████████| 40000/40000 [00:31<00:00, 1259.22it/s]\n"
          ]
        }
      ]
    },
    {
      "cell_type": "code",
      "source": [
        "all_words = [word for sentence in X_train_cleaned for word in sentence.split()]\n",
        "\n",
        "# Calculate the vocabulary size (number of unique words)\n",
        "total_vocab_size = len(set(all_words))\n",
        "\n",
        "print(\"Total Vocabulary Size:\", total_vocab_size)"
      ],
      "metadata": {
        "colab": {
          "base_uri": "https://localhost:8080/"
        },
        "id": "hJtZraUsjmvt",
        "outputId": "b20d7cc7-cc79-4a83-b51e-a8db42981a5d"
      },
      "execution_count": 167,
      "outputs": [
        {
          "output_type": "stream",
          "name": "stdout",
          "text": [
            "Total Vocabulary Size: 110111\n"
          ]
        }
      ]
    },
    {
      "cell_type": "markdown",
      "source": [
        "Tokenization"
      ],
      "metadata": {
        "id": "0sggTsOMjw_e"
      }
    },
    {
      "cell_type": "code",
      "source": [
        "vocab_size = 50000\n",
        "max_length = 2000\n",
        "trunc_type='post'\n",
        "padding_type='post'\n",
        "oov_tok = \"\""
      ],
      "metadata": {
        "id": "x22We3W0js4P"
      },
      "execution_count": 168,
      "outputs": []
    },
    {
      "cell_type": "code",
      "source": [
        "tokenizer = Tokenizer(num_words=vocab_size, oov_token=oov_tok)\n",
        "tokenizer.fit_on_texts(X_train_cleaned)"
      ],
      "metadata": {
        "id": "smkYqhkXjzks"
      },
      "execution_count": 169,
      "outputs": []
    },
    {
      "cell_type": "code",
      "source": [
        "word_index = tokenizer.word_index\n",
        "\n",
        "training_sequences = tokenizer.texts_to_sequences(X_train_cleaned)\n",
        "training_padded = pad_sequences(training_sequences, maxlen=max_length, padding=padding_type, truncating=trunc_type)\n",
        "\n",
        "testing_sequences = tokenizer.texts_to_sequences(X_test)\n",
        "testing_padded = pad_sequences(testing_sequences, maxlen=max_length, padding=padding_type, truncating=trunc_type)"
      ],
      "metadata": {
        "id": "a_YDLD-kj19L"
      },
      "execution_count": 170,
      "outputs": []
    },
    {
      "cell_type": "markdown",
      "source": [
        "Split the train into train and validation"
      ],
      "metadata": {
        "id": "gUfb2qgtkBeZ"
      }
    },
    {
      "cell_type": "code",
      "source": [
        "training_padded, validation_padded, y_train, y_valid = train_test_split(training_padded, y_train, test_size=0.2, random_state=2023)"
      ],
      "metadata": {
        "id": "84MQQuPZj6y8"
      },
      "execution_count": 171,
      "outputs": []
    },
    {
      "cell_type": "code",
      "source": [
        "training_padded = np.array(training_padded)\n",
        "training_labels = np.array(y_train)\n",
        "\n",
        "validation_padded = np.array(validation_padded)\n",
        "validation_labels = np.array(y_valid)\n",
        "\n",
        "testing_padded = np.array(testing_padded)\n",
        "testing_labels = np.array(y_test)"
      ],
      "metadata": {
        "id": "4wWVuedGkERn"
      },
      "execution_count": 172,
      "outputs": []
    },
    {
      "cell_type": "code",
      "source": [
        "print(f'Train shappe: {train_data.shape}')\n",
        "print(f'Validation shappe: {validation_padded.shape}')\n",
        "print(f'Test shappe: {test_data.shape}')"
      ],
      "metadata": {
        "colab": {
          "base_uri": "https://localhost:8080/"
        },
        "id": "knXRYBHYkGj6",
        "outputId": "c55d42a9-11f2-4df0-957f-718b4943f8b0"
      },
      "execution_count": 173,
      "outputs": [
        {
          "output_type": "stream",
          "name": "stdout",
          "text": [
            "Train shappe: (40000, 2)\n",
            "Validation shappe: (8000, 2000)\n",
            "Test shappe: (10000, 2)\n"
          ]
        }
      ]
    },
    {
      "cell_type": "code",
      "source": [
        "embedding_dim = round(vocab_size ** 0.25) # use the fourth root of the vocab size\n",
        "l2_regularization = 0.01 # tends to amplify differences between nonzero values and zero or close-tozero ones\n"
      ],
      "metadata": {
        "id": "BQSErhB_kIua"
      },
      "execution_count": 174,
      "outputs": []
    },
    {
      "cell_type": "code",
      "source": [
        "def create_model(vocab_size, embedding_dim):\n",
        "    model = tf.keras.Sequential([\n",
        "            tf.keras.layers.Embedding(vocab_size, embedding_dim), # turns positive integers into dense vectors of fixed size\n",
        "            tf.keras.layers.GlobalAveragePooling1D(),\n",
        "            tf.keras.layers.Dense(24, activation='relu', kernel_regularizer=tf.keras.regularizers.l2(l2_regularization)),\n",
        "            tf.keras.layers.Dropout(.25),\n",
        "            tf.keras.layers.Dense(1, activation='sigmoid')\n",
        "        ])\n",
        "\n",
        "    adam = tf.keras.optimizers.Adam(learning_rate=0.0001, beta_1=0.9, beta_2=0.999, amsgrad=False)\n",
        "\n",
        "    model.compile(loss='binary_crossentropy', optimizer=adam, metrics=['accuracy'])\n",
        "\n",
        "    return model"
      ],
      "metadata": {
        "id": "U-vj6aeukMuu"
      },
      "execution_count": 175,
      "outputs": []
    },
    {
      "cell_type": "code",
      "source": [
        "model = create_model(vocab_size, embedding_dim)\n",
        "# Display the model's architecture\n",
        "model.summary()"
      ],
      "metadata": {
        "colab": {
          "base_uri": "https://localhost:8080/",
          "height": 314
        },
        "id": "-MtkOh-HkPF7",
        "outputId": "0bb4b429-29f0-4db5-b024-a402571f4c09"
      },
      "execution_count": 176,
      "outputs": [
        {
          "output_type": "display_data",
          "data": {
            "text/plain": [
              "\u001b[1mModel: \"sequential\"\u001b[0m\n"
            ],
            "text/html": [
              "<pre style=\"white-space:pre;overflow-x:auto;line-height:normal;font-family:Menlo,'DejaVu Sans Mono',consolas,'Courier New',monospace\"><span style=\"font-weight: bold\">Model: \"sequential\"</span>\n",
              "</pre>\n"
            ]
          },
          "metadata": {}
        },
        {
          "output_type": "display_data",
          "data": {
            "text/plain": [
              "┏━━━━━━━━━━━━━━━━━━━━━━━━━━━━━━━━━━━━━━┳━━━━━━━━━━━━━━━━━━━━━━━━━━━━━┳━━━━━━━━━━━━━━━━━┓\n",
              "┃\u001b[1m \u001b[0m\u001b[1mLayer (type)                        \u001b[0m\u001b[1m \u001b[0m┃\u001b[1m \u001b[0m\u001b[1mOutput Shape               \u001b[0m\u001b[1m \u001b[0m┃\u001b[1m \u001b[0m\u001b[1m        Param #\u001b[0m\u001b[1m \u001b[0m┃\n",
              "┡━━━━━━━━━━━━━━━━━━━━━━━━━━━━━━━━━━━━━━╇━━━━━━━━━━━━━━━━━━━━━━━━━━━━━╇━━━━━━━━━━━━━━━━━┩\n",
              "│ embedding (\u001b[38;5;33mEmbedding\u001b[0m)                │ ?                           │     \u001b[38;5;34m0\u001b[0m (unbuilt) │\n",
              "├──────────────────────────────────────┼─────────────────────────────┼─────────────────┤\n",
              "│ global_average_pooling1d             │ ?                           │     \u001b[38;5;34m0\u001b[0m (unbuilt) │\n",
              "│ (\u001b[38;5;33mGlobalAveragePooling1D\u001b[0m)             │                             │                 │\n",
              "├──────────────────────────────────────┼─────────────────────────────┼─────────────────┤\n",
              "│ dense (\u001b[38;5;33mDense\u001b[0m)                        │ ?                           │     \u001b[38;5;34m0\u001b[0m (unbuilt) │\n",
              "├──────────────────────────────────────┼─────────────────────────────┼─────────────────┤\n",
              "│ dropout (\u001b[38;5;33mDropout\u001b[0m)                    │ ?                           │     \u001b[38;5;34m0\u001b[0m (unbuilt) │\n",
              "├──────────────────────────────────────┼─────────────────────────────┼─────────────────┤\n",
              "│ dense_1 (\u001b[38;5;33mDense\u001b[0m)                      │ ?                           │     \u001b[38;5;34m0\u001b[0m (unbuilt) │\n",
              "└──────────────────────────────────────┴─────────────────────────────┴─────────────────┘\n"
            ],
            "text/html": [
              "<pre style=\"white-space:pre;overflow-x:auto;line-height:normal;font-family:Menlo,'DejaVu Sans Mono',consolas,'Courier New',monospace\">┏━━━━━━━━━━━━━━━━━━━━━━━━━━━━━━━━━━━━━━┳━━━━━━━━━━━━━━━━━━━━━━━━━━━━━┳━━━━━━━━━━━━━━━━━┓\n",
              "┃<span style=\"font-weight: bold\"> Layer (type)                         </span>┃<span style=\"font-weight: bold\"> Output Shape                </span>┃<span style=\"font-weight: bold\">         Param # </span>┃\n",
              "┡━━━━━━━━━━━━━━━━━━━━━━━━━━━━━━━━━━━━━━╇━━━━━━━━━━━━━━━━━━━━━━━━━━━━━╇━━━━━━━━━━━━━━━━━┩\n",
              "│ embedding (<span style=\"color: #0087ff; text-decoration-color: #0087ff\">Embedding</span>)                │ ?                           │     <span style=\"color: #00af00; text-decoration-color: #00af00\">0</span> (unbuilt) │\n",
              "├──────────────────────────────────────┼─────────────────────────────┼─────────────────┤\n",
              "│ global_average_pooling1d             │ ?                           │     <span style=\"color: #00af00; text-decoration-color: #00af00\">0</span> (unbuilt) │\n",
              "│ (<span style=\"color: #0087ff; text-decoration-color: #0087ff\">GlobalAveragePooling1D</span>)             │                             │                 │\n",
              "├──────────────────────────────────────┼─────────────────────────────┼─────────────────┤\n",
              "│ dense (<span style=\"color: #0087ff; text-decoration-color: #0087ff\">Dense</span>)                        │ ?                           │     <span style=\"color: #00af00; text-decoration-color: #00af00\">0</span> (unbuilt) │\n",
              "├──────────────────────────────────────┼─────────────────────────────┼─────────────────┤\n",
              "│ dropout (<span style=\"color: #0087ff; text-decoration-color: #0087ff\">Dropout</span>)                    │ ?                           │     <span style=\"color: #00af00; text-decoration-color: #00af00\">0</span> (unbuilt) │\n",
              "├──────────────────────────────────────┼─────────────────────────────┼─────────────────┤\n",
              "│ dense_1 (<span style=\"color: #0087ff; text-decoration-color: #0087ff\">Dense</span>)                      │ ?                           │     <span style=\"color: #00af00; text-decoration-color: #00af00\">0</span> (unbuilt) │\n",
              "└──────────────────────────────────────┴─────────────────────────────┴─────────────────┘\n",
              "</pre>\n"
            ]
          },
          "metadata": {}
        },
        {
          "output_type": "display_data",
          "data": {
            "text/plain": [
              "\u001b[1m Total params: \u001b[0m\u001b[38;5;34m0\u001b[0m (0.00 B)\n"
            ],
            "text/html": [
              "<pre style=\"white-space:pre;overflow-x:auto;line-height:normal;font-family:Menlo,'DejaVu Sans Mono',consolas,'Courier New',monospace\"><span style=\"font-weight: bold\"> Total params: </span><span style=\"color: #00af00; text-decoration-color: #00af00\">0</span> (0.00 B)\n",
              "</pre>\n"
            ]
          },
          "metadata": {}
        },
        {
          "output_type": "display_data",
          "data": {
            "text/plain": [
              "\u001b[1m Trainable params: \u001b[0m\u001b[38;5;34m0\u001b[0m (0.00 B)\n"
            ],
            "text/html": [
              "<pre style=\"white-space:pre;overflow-x:auto;line-height:normal;font-family:Menlo,'DejaVu Sans Mono',consolas,'Courier New',monospace\"><span style=\"font-weight: bold\"> Trainable params: </span><span style=\"color: #00af00; text-decoration-color: #00af00\">0</span> (0.00 B)\n",
              "</pre>\n"
            ]
          },
          "metadata": {}
        },
        {
          "output_type": "display_data",
          "data": {
            "text/plain": [
              "\u001b[1m Non-trainable params: \u001b[0m\u001b[38;5;34m0\u001b[0m (0.00 B)\n"
            ],
            "text/html": [
              "<pre style=\"white-space:pre;overflow-x:auto;line-height:normal;font-family:Menlo,'DejaVu Sans Mono',consolas,'Courier New',monospace\"><span style=\"font-weight: bold\"> Non-trainable params: </span><span style=\"color: #00af00; text-decoration-color: #00af00\">0</span> (0.00 B)\n",
              "</pre>\n"
            ]
          },
          "metadata": {}
        }
      ]
    },
    {
      "cell_type": "code",
      "source": [
        "num_epochs = 100\n",
        "history = model.fit(training_padded,\n",
        "                    training_labels,\n",
        "                    epochs=num_epochs,\n",
        "                    validation_data=(validation_padded, validation_labels),\n",
        "                    verbose=2)"
      ],
      "metadata": {
        "colab": {
          "base_uri": "https://localhost:8080/"
        },
        "id": "g3vPitHakdEz",
        "outputId": "d23b3969-fadd-4d8a-90e2-62ce99be41e7"
      },
      "execution_count": 180,
      "outputs": [
        {
          "output_type": "stream",
          "name": "stdout",
          "text": [
            "Epoch 1/100\n",
            "1000/1000 - 18s - 18ms/step - accuracy: 0.4965 - loss: 0.8296 - val_accuracy: 0.4979 - val_loss: 0.7833\n",
            "Epoch 2/100\n",
            "1000/1000 - 20s - 20ms/step - accuracy: 0.4988 - loss: 0.7542 - val_accuracy: 0.4979 - val_loss: 0.7310\n",
            "Epoch 3/100\n",
            "1000/1000 - 20s - 20ms/step - accuracy: 0.5013 - loss: 0.7169 - val_accuracy: 0.5099 - val_loss: 0.7062\n",
            "Epoch 4/100\n",
            "1000/1000 - 21s - 21ms/step - accuracy: 0.4991 - loss: 0.7005 - val_accuracy: 0.4979 - val_loss: 0.6964\n",
            "Epoch 5/100\n",
            "1000/1000 - 16s - 16ms/step - accuracy: 0.5041 - loss: 0.6947 - val_accuracy: 0.4991 - val_loss: 0.6936\n",
            "Epoch 6/100\n",
            "1000/1000 - 21s - 21ms/step - accuracy: 0.5003 - loss: 0.6933 - val_accuracy: 0.5021 - val_loss: 0.6932\n",
            "Epoch 7/100\n",
            "1000/1000 - 20s - 20ms/step - accuracy: 0.5007 - loss: 0.6932 - val_accuracy: 0.4979 - val_loss: 0.6931\n",
            "Epoch 8/100\n",
            "1000/1000 - 20s - 20ms/step - accuracy: 0.5000 - loss: 0.6932 - val_accuracy: 0.5023 - val_loss: 0.6931\n",
            "Epoch 9/100\n",
            "1000/1000 - 21s - 21ms/step - accuracy: 0.4996 - loss: 0.6931 - val_accuracy: 0.4979 - val_loss: 0.6931\n",
            "Epoch 10/100\n",
            "1000/1000 - 20s - 20ms/step - accuracy: 0.5024 - loss: 0.6931 - val_accuracy: 0.4979 - val_loss: 0.6932\n",
            "Epoch 11/100\n",
            "1000/1000 - 21s - 21ms/step - accuracy: 0.5018 - loss: 0.6932 - val_accuracy: 0.4979 - val_loss: 0.6931\n",
            "Epoch 12/100\n",
            "1000/1000 - 20s - 20ms/step - accuracy: 0.5013 - loss: 0.6931 - val_accuracy: 0.4979 - val_loss: 0.6932\n",
            "Epoch 13/100\n",
            "1000/1000 - 17s - 17ms/step - accuracy: 0.4997 - loss: 0.6932 - val_accuracy: 0.4979 - val_loss: 0.6931\n",
            "Epoch 14/100\n",
            "1000/1000 - 22s - 22ms/step - accuracy: 0.5043 - loss: 0.6931 - val_accuracy: 0.7234 - val_loss: 0.6931\n",
            "Epoch 15/100\n",
            "1000/1000 - 18s - 18ms/step - accuracy: 0.5012 - loss: 0.6931 - val_accuracy: 0.4985 - val_loss: 0.6931\n",
            "Epoch 16/100\n",
            "1000/1000 - 16s - 16ms/step - accuracy: 0.5078 - loss: 0.6931 - val_accuracy: 0.4979 - val_loss: 0.6932\n",
            "Epoch 17/100\n",
            "1000/1000 - 21s - 21ms/step - accuracy: 0.5036 - loss: 0.6931 - val_accuracy: 0.5096 - val_loss: 0.6931\n",
            "Epoch 18/100\n",
            "1000/1000 - 20s - 20ms/step - accuracy: 0.5051 - loss: 0.6931 - val_accuracy: 0.5052 - val_loss: 0.6931\n",
            "Epoch 19/100\n",
            "1000/1000 - 20s - 20ms/step - accuracy: 0.5049 - loss: 0.6931 - val_accuracy: 0.4980 - val_loss: 0.6931\n",
            "Epoch 20/100\n",
            "1000/1000 - 20s - 20ms/step - accuracy: 0.5107 - loss: 0.6931 - val_accuracy: 0.5021 - val_loss: 0.6931\n",
            "Epoch 21/100\n",
            "1000/1000 - 16s - 16ms/step - accuracy: 0.5153 - loss: 0.6931 - val_accuracy: 0.4983 - val_loss: 0.6931\n",
            "Epoch 22/100\n",
            "1000/1000 - 22s - 22ms/step - accuracy: 0.5251 - loss: 0.6931 - val_accuracy: 0.4995 - val_loss: 0.6930\n",
            "Epoch 23/100\n",
            "1000/1000 - 18s - 18ms/step - accuracy: 0.5136 - loss: 0.6930 - val_accuracy: 0.4980 - val_loss: 0.6930\n",
            "Epoch 24/100\n",
            "1000/1000 - 16s - 16ms/step - accuracy: 0.5244 - loss: 0.6930 - val_accuracy: 0.5132 - val_loss: 0.6929\n",
            "Epoch 25/100\n",
            "1000/1000 - 16s - 16ms/step - accuracy: 0.5265 - loss: 0.6929 - val_accuracy: 0.7210 - val_loss: 0.6928\n",
            "Epoch 26/100\n",
            "1000/1000 - 22s - 22ms/step - accuracy: 0.5392 - loss: 0.6928 - val_accuracy: 0.7747 - val_loss: 0.6927\n",
            "Epoch 27/100\n",
            "1000/1000 - 16s - 16ms/step - accuracy: 0.5414 - loss: 0.6927 - val_accuracy: 0.5006 - val_loss: 0.6926\n",
            "Epoch 28/100\n",
            "1000/1000 - 20s - 20ms/step - accuracy: 0.5406 - loss: 0.6925 - val_accuracy: 0.5002 - val_loss: 0.6925\n",
            "Epoch 29/100\n",
            "1000/1000 - 21s - 21ms/step - accuracy: 0.5521 - loss: 0.6924 - val_accuracy: 0.5436 - val_loss: 0.6921\n",
            "Epoch 30/100\n",
            "1000/1000 - 16s - 16ms/step - accuracy: 0.5609 - loss: 0.6920 - val_accuracy: 0.5031 - val_loss: 0.6919\n",
            "Epoch 31/100\n",
            "1000/1000 - 20s - 20ms/step - accuracy: 0.5731 - loss: 0.6917 - val_accuracy: 0.6291 - val_loss: 0.6913\n",
            "Epoch 32/100\n",
            "1000/1000 - 17s - 17ms/step - accuracy: 0.5866 - loss: 0.6912 - val_accuracy: 0.7479 - val_loss: 0.6906\n",
            "Epoch 33/100\n",
            "1000/1000 - 20s - 20ms/step - accuracy: 0.5953 - loss: 0.6903 - val_accuracy: 0.6240 - val_loss: 0.6897\n",
            "Epoch 34/100\n",
            "1000/1000 - 20s - 20ms/step - accuracy: 0.6093 - loss: 0.6894 - val_accuracy: 0.5748 - val_loss: 0.6886\n",
            "Epoch 35/100\n",
            "1000/1000 - 18s - 18ms/step - accuracy: 0.6216 - loss: 0.6881 - val_accuracy: 0.5781 - val_loss: 0.6872\n",
            "Epoch 36/100\n",
            "1000/1000 - 19s - 19ms/step - accuracy: 0.6273 - loss: 0.6868 - val_accuracy: 0.6469 - val_loss: 0.6860\n",
            "Epoch 37/100\n",
            "1000/1000 - 16s - 16ms/step - accuracy: 0.6504 - loss: 0.6847 - val_accuracy: 0.7812 - val_loss: 0.6833\n",
            "Epoch 38/100\n",
            "1000/1000 - 16s - 16ms/step - accuracy: 0.6580 - loss: 0.6825 - val_accuracy: 0.5617 - val_loss: 0.6818\n",
            "Epoch 39/100\n",
            "1000/1000 - 16s - 16ms/step - accuracy: 0.6577 - loss: 0.6800 - val_accuracy: 0.7437 - val_loss: 0.6775\n",
            "Epoch 40/100\n",
            "1000/1000 - 16s - 16ms/step - accuracy: 0.6699 - loss: 0.6778 - val_accuracy: 0.6323 - val_loss: 0.6752\n",
            "Epoch 41/100\n",
            "1000/1000 - 16s - 16ms/step - accuracy: 0.6829 - loss: 0.6733 - val_accuracy: 0.6656 - val_loss: 0.6712\n",
            "Epoch 42/100\n",
            "1000/1000 - 17s - 17ms/step - accuracy: 0.6902 - loss: 0.6704 - val_accuracy: 0.6435 - val_loss: 0.6720\n",
            "Epoch 43/100\n",
            "1000/1000 - 20s - 20ms/step - accuracy: 0.6998 - loss: 0.6660 - val_accuracy: 0.7305 - val_loss: 0.6619\n",
            "Epoch 44/100\n",
            "1000/1000 - 16s - 16ms/step - accuracy: 0.7057 - loss: 0.6610 - val_accuracy: 0.7448 - val_loss: 0.6569\n",
            "Epoch 45/100\n",
            "1000/1000 - 16s - 16ms/step - accuracy: 0.7083 - loss: 0.6577 - val_accuracy: 0.7922 - val_loss: 0.6515\n",
            "Epoch 46/100\n",
            "1000/1000 - 20s - 20ms/step - accuracy: 0.7187 - loss: 0.6524 - val_accuracy: 0.8116 - val_loss: 0.6468\n",
            "Epoch 47/100\n",
            "1000/1000 - 20s - 20ms/step - accuracy: 0.7175 - loss: 0.6480 - val_accuracy: 0.8127 - val_loss: 0.6416\n",
            "Epoch 48/100\n",
            "1000/1000 - 16s - 16ms/step - accuracy: 0.7260 - loss: 0.6437 - val_accuracy: 0.7912 - val_loss: 0.6356\n",
            "Epoch 49/100\n",
            "1000/1000 - 21s - 21ms/step - accuracy: 0.7296 - loss: 0.6372 - val_accuracy: 0.8159 - val_loss: 0.6308\n",
            "Epoch 50/100\n",
            "1000/1000 - 16s - 16ms/step - accuracy: 0.7405 - loss: 0.6315 - val_accuracy: 0.7506 - val_loss: 0.6257\n",
            "Epoch 51/100\n",
            "1000/1000 - 20s - 20ms/step - accuracy: 0.7418 - loss: 0.6279 - val_accuracy: 0.8058 - val_loss: 0.6180\n",
            "Epoch 52/100\n",
            "1000/1000 - 16s - 16ms/step - accuracy: 0.7463 - loss: 0.6223 - val_accuracy: 0.8142 - val_loss: 0.6122\n",
            "Epoch 53/100\n",
            "1000/1000 - 20s - 20ms/step - accuracy: 0.7509 - loss: 0.6172 - val_accuracy: 0.8209 - val_loss: 0.6087\n",
            "Epoch 54/100\n",
            "1000/1000 - 21s - 21ms/step - accuracy: 0.7583 - loss: 0.6106 - val_accuracy: 0.8261 - val_loss: 0.6013\n",
            "Epoch 55/100\n",
            "1000/1000 - 18s - 18ms/step - accuracy: 0.7571 - loss: 0.6066 - val_accuracy: 0.7809 - val_loss: 0.6047\n",
            "Epoch 56/100\n",
            "1000/1000 - 16s - 16ms/step - accuracy: 0.7604 - loss: 0.6009 - val_accuracy: 0.8239 - val_loss: 0.5930\n",
            "Epoch 57/100\n",
            "1000/1000 - 20s - 20ms/step - accuracy: 0.7670 - loss: 0.5962 - val_accuracy: 0.8148 - val_loss: 0.5837\n",
            "Epoch 58/100\n",
            "1000/1000 - 16s - 16ms/step - accuracy: 0.7722 - loss: 0.5901 - val_accuracy: 0.8340 - val_loss: 0.5789\n",
            "Epoch 59/100\n",
            "1000/1000 - 21s - 21ms/step - accuracy: 0.7666 - loss: 0.5877 - val_accuracy: 0.8214 - val_loss: 0.5782\n",
            "Epoch 60/100\n",
            "1000/1000 - 20s - 20ms/step - accuracy: 0.7750 - loss: 0.5800 - val_accuracy: 0.8347 - val_loss: 0.5668\n",
            "Epoch 61/100\n",
            "1000/1000 - 16s - 16ms/step - accuracy: 0.7774 - loss: 0.5756 - val_accuracy: 0.8361 - val_loss: 0.5649\n",
            "Epoch 62/100\n",
            "1000/1000 - 18s - 18ms/step - accuracy: 0.7824 - loss: 0.5714 - val_accuracy: 0.8413 - val_loss: 0.5566\n",
            "Epoch 63/100\n",
            "1000/1000 - 16s - 16ms/step - accuracy: 0.7897 - loss: 0.5647 - val_accuracy: 0.8096 - val_loss: 0.5536\n",
            "Epoch 64/100\n",
            "1000/1000 - 21s - 21ms/step - accuracy: 0.7868 - loss: 0.5619 - val_accuracy: 0.8446 - val_loss: 0.5460\n",
            "Epoch 65/100\n",
            "1000/1000 - 16s - 16ms/step - accuracy: 0.7906 - loss: 0.5571 - val_accuracy: 0.8253 - val_loss: 0.5422\n",
            "Epoch 66/100\n",
            "1000/1000 - 18s - 18ms/step - accuracy: 0.7936 - loss: 0.5524 - val_accuracy: 0.8092 - val_loss: 0.5518\n",
            "Epoch 67/100\n",
            "1000/1000 - 16s - 16ms/step - accuracy: 0.7965 - loss: 0.5483 - val_accuracy: 0.8479 - val_loss: 0.5333\n",
            "Epoch 68/100\n",
            "1000/1000 - 20s - 20ms/step - accuracy: 0.7981 - loss: 0.5436 - val_accuracy: 0.8441 - val_loss: 0.5266\n",
            "Epoch 69/100\n",
            "1000/1000 - 22s - 22ms/step - accuracy: 0.8022 - loss: 0.5393 - val_accuracy: 0.7812 - val_loss: 0.5363\n",
            "Epoch 70/100\n",
            "1000/1000 - 19s - 19ms/step - accuracy: 0.8056 - loss: 0.5341 - val_accuracy: 0.8530 - val_loss: 0.5173\n",
            "Epoch 71/100\n",
            "1000/1000 - 22s - 22ms/step - accuracy: 0.8061 - loss: 0.5314 - val_accuracy: 0.8401 - val_loss: 0.5138\n",
            "Epoch 72/100\n",
            "1000/1000 - 19s - 19ms/step - accuracy: 0.8060 - loss: 0.5263 - val_accuracy: 0.8487 - val_loss: 0.5145\n",
            "Epoch 73/100\n",
            "1000/1000 - 20s - 20ms/step - accuracy: 0.8079 - loss: 0.5242 - val_accuracy: 0.8424 - val_loss: 0.5054\n",
            "Epoch 74/100\n",
            "1000/1000 - 18s - 18ms/step - accuracy: 0.8099 - loss: 0.5197 - val_accuracy: 0.8556 - val_loss: 0.5000\n",
            "Epoch 75/100\n",
            "1000/1000 - 16s - 16ms/step - accuracy: 0.8132 - loss: 0.5159 - val_accuracy: 0.8543 - val_loss: 0.4995\n",
            "Epoch 76/100\n",
            "1000/1000 - 20s - 20ms/step - accuracy: 0.8126 - loss: 0.5137 - val_accuracy: 0.8568 - val_loss: 0.4946\n",
            "Epoch 77/100\n",
            "1000/1000 - 16s - 16ms/step - accuracy: 0.8199 - loss: 0.5055 - val_accuracy: 0.8586 - val_loss: 0.4901\n",
            "Epoch 78/100\n",
            "1000/1000 - 21s - 21ms/step - accuracy: 0.8196 - loss: 0.5031 - val_accuracy: 0.8509 - val_loss: 0.4929\n",
            "Epoch 79/100\n",
            "1000/1000 - 16s - 16ms/step - accuracy: 0.8214 - loss: 0.4999 - val_accuracy: 0.8566 - val_loss: 0.4808\n",
            "Epoch 80/100\n",
            "1000/1000 - 16s - 16ms/step - accuracy: 0.8248 - loss: 0.4950 - val_accuracy: 0.8036 - val_loss: 0.4963\n",
            "Epoch 81/100\n",
            "1000/1000 - 21s - 21ms/step - accuracy: 0.8262 - loss: 0.4928 - val_accuracy: 0.8648 - val_loss: 0.4736\n",
            "Epoch 82/100\n",
            "1000/1000 - 20s - 20ms/step - accuracy: 0.8279 - loss: 0.4881 - val_accuracy: 0.8529 - val_loss: 0.4806\n",
            "Epoch 83/100\n",
            "1000/1000 - 16s - 16ms/step - accuracy: 0.8285 - loss: 0.4845 - val_accuracy: 0.8630 - val_loss: 0.4685\n",
            "Epoch 84/100\n",
            "1000/1000 - 16s - 16ms/step - accuracy: 0.8283 - loss: 0.4825 - val_accuracy: 0.8142 - val_loss: 0.4977\n",
            "Epoch 85/100\n",
            "1000/1000 - 21s - 21ms/step - accuracy: 0.8315 - loss: 0.4790 - val_accuracy: 0.8634 - val_loss: 0.4603\n",
            "Epoch 86/100\n",
            "1000/1000 - 16s - 16ms/step - accuracy: 0.8344 - loss: 0.4769 - val_accuracy: 0.8381 - val_loss: 0.4796\n",
            "Epoch 87/100\n",
            "1000/1000 - 20s - 20ms/step - accuracy: 0.8316 - loss: 0.4736 - val_accuracy: 0.8685 - val_loss: 0.4542\n",
            "Epoch 88/100\n",
            "1000/1000 - 16s - 16ms/step - accuracy: 0.8362 - loss: 0.4718 - val_accuracy: 0.8691 - val_loss: 0.4518\n",
            "Epoch 89/100\n",
            "1000/1000 - 18s - 18ms/step - accuracy: 0.8372 - loss: 0.4682 - val_accuracy: 0.8612 - val_loss: 0.4564\n",
            "Epoch 90/100\n",
            "1000/1000 - 16s - 16ms/step - accuracy: 0.8365 - loss: 0.4653 - val_accuracy: 0.8698 - val_loss: 0.4450\n",
            "Epoch 91/100\n",
            "1000/1000 - 16s - 16ms/step - accuracy: 0.8373 - loss: 0.4626 - val_accuracy: 0.8708 - val_loss: 0.4431\n",
            "Epoch 92/100\n",
            "1000/1000 - 16s - 16ms/step - accuracy: 0.8427 - loss: 0.4570 - val_accuracy: 0.8714 - val_loss: 0.4389\n",
            "Epoch 93/100\n",
            "1000/1000 - 21s - 21ms/step - accuracy: 0.8396 - loss: 0.4573 - val_accuracy: 0.8698 - val_loss: 0.4400\n",
            "Epoch 94/100\n",
            "1000/1000 - 18s - 18ms/step - accuracy: 0.8437 - loss: 0.4524 - val_accuracy: 0.8686 - val_loss: 0.4383\n",
            "Epoch 95/100\n",
            "1000/1000 - 19s - 19ms/step - accuracy: 0.8428 - loss: 0.4534 - val_accuracy: 0.8610 - val_loss: 0.4358\n",
            "Epoch 96/100\n",
            "1000/1000 - 21s - 21ms/step - accuracy: 0.8455 - loss: 0.4486 - val_accuracy: 0.8739 - val_loss: 0.4288\n",
            "Epoch 97/100\n",
            "1000/1000 - 20s - 20ms/step - accuracy: 0.8466 - loss: 0.4461 - val_accuracy: 0.8568 - val_loss: 0.4434\n",
            "Epoch 98/100\n",
            "1000/1000 - 16s - 16ms/step - accuracy: 0.8482 - loss: 0.4413 - val_accuracy: 0.8733 - val_loss: 0.4238\n",
            "Epoch 99/100\n",
            "1000/1000 - 16s - 16ms/step - accuracy: 0.8465 - loss: 0.4413 - val_accuracy: 0.8737 - val_loss: 0.4216\n",
            "Epoch 100/100\n",
            "1000/1000 - 16s - 16ms/step - accuracy: 0.8507 - loss: 0.4387 - val_accuracy: 0.8760 - val_loss: 0.4194\n"
          ]
        }
      ]
    },
    {
      "cell_type": "code",
      "source": [
        "sentences = [\"The worst movie I have ever seen. A complete waste of time\",\n",
        "             ]\n",
        "sequences = tokenizer.texts_to_sequences(sentences)\n",
        "padded = pad_sequences(sequences, maxlen=max_length, padding=padding_type, truncating=trunc_type)\n",
        "predictions = model.predict(padded)\n",
        "print(predictions)"
      ],
      "metadata": {
        "colab": {
          "base_uri": "https://localhost:8080/"
        },
        "id": "lDYCAYpekhqU",
        "outputId": "2c886f12-1a8c-4d92-e00b-8a2aaba69900"
      },
      "execution_count": 214,
      "outputs": [
        {
          "output_type": "stream",
          "name": "stdout",
          "text": [
            "\u001b[1m1/1\u001b[0m \u001b[32m━━━━━━━━━━━━━━━━━━━━\u001b[0m\u001b[37m\u001b[0m \u001b[1m0s\u001b[0m 23ms/step\n",
            "[[0.29735908]]\n"
          ]
        }
      ]
    },
    {
      "cell_type": "code",
      "source": [
        "yhat = np.zeros_like(predictions)\n",
        "for i in range(len(predictions)):\n",
        "    if predictions[i] >= 0.5:\n",
        "        yhat[i] = 1\n",
        "    else:\n",
        "        yhat[i] = 0\n",
        "print(f\"decisions = \\n{yhat}\")"
      ],
      "metadata": {
        "colab": {
          "base_uri": "https://localhost:8080/"
        },
        "id": "a5FMPp56rwRv",
        "outputId": "dd2968e1-a088-4a71-d2b6-67a67360b44b"
      },
      "execution_count": 215,
      "outputs": [
        {
          "output_type": "stream",
          "name": "stdout",
          "text": [
            "decisions = \n",
            "[[0.]]\n"
          ]
        }
      ]
    },
    {
      "cell_type": "code",
      "source": [
        "if max(yhat) == 1:\n",
        "    print(\"Positive\")\n",
        "else:\n",
        "    print(\"Negative\")\n",
        "\n",
        "\n",
        "#print(f\"reviews = \\n{review_labels}\")"
      ],
      "metadata": {
        "colab": {
          "base_uri": "https://localhost:8080/"
        },
        "id": "29hPNMW9sVh8",
        "outputId": "589a67ec-c099-4472-8b96-ef5a7d11f73e"
      },
      "execution_count": 216,
      "outputs": [
        {
          "output_type": "stream",
          "name": "stdout",
          "text": [
            "Negative\n"
          ]
        }
      ]
    },
    {
      "cell_type": "code",
      "source": [],
      "metadata": {
        "id": "od_Sre2lse9c"
      },
      "execution_count": null,
      "outputs": []
    }
  ]
}